{
 "cells": [
  {
   "cell_type": "code",
   "execution_count": null,
   "id": "459f7fb5",
   "metadata": {
    "executionInfo": {
     "elapsed": 322,
     "status": "ok",
     "timestamp": 1686365705570,
     "user": {
      "displayName": "Justin DeMaagd",
      "userId": "12802230236485062081"
     },
     "user_tz": 420
    },
    "id": "459f7fb5"
   },
   "outputs": [],
   "source": [
    "\n",
    "import pandas as pd\n",
    "import math\n",
    "import numpy as np\n",
    "from alpha_vantage.timeseries import TimeSeries  #Need to install library -- pip install alpha_vantage\n",
    "from Access_codes import AlphaVanAPIkey  # Need to get a API key\n",
    "from pprint import pprint\n",
    "\n",
    "\n",
    "\n"
   ]
  },
  {
   "cell_type": "code",
   "execution_count": null,
   "id": "a407fcc3",
   "metadata": {},
   "outputs": [],
   "source": [
    "\n",
    "# API GET request\n",
    "TCKR = str(input(\"What stock do you want to see?\"))\n",
    "ts = TimeSeries(AlphaVanAPIkey, output_format = 'pandas')\n",
    "data, meta = ts.get_daily_adjusted(TCKR, outputsize ='full')"
   ]
  },
  {
   "cell_type": "code",
   "execution_count": null,
   "id": "667c8d81",
   "metadata": {},
   "outputs": [],
   "source": [
    "\n",
    "columns = ['open', 'high', 'low', 'close', 'adjusted close', 'volume', 'dividend', 'split']\n",
    "data.columns = columns"
   ]
  },
  {
   "cell_type": "code",
   "execution_count": null,
   "id": "9e36d6a3",
   "metadata": {
    "colab": {
     "base_uri": "https://localhost:8080/",
     "height": 398
    },
    "executionInfo": {
     "elapsed": 325,
     "status": "error",
     "timestamp": 1686365708645,
     "user": {
      "displayName": "Justin DeMaagd",
      "userId": "12802230236485062081"
     },
     "user_tz": 420
    },
    "id": "9e36d6a3",
    "outputId": "ff149119-d2ed-489e-8754-f3c5dc0a5853"
   },
   "outputs": [],
   "source": [
    "TCKR = pd.DataFrame(data)\n",
    "\n",
    "TCKR\n",
    "\n",
    "TCKR.info()"
   ]
  },
  {
   "cell_type": "code",
   "execution_count": null,
   "id": "d8f64d21",
   "metadata": {
    "id": "d8f64d21",
    "outputId": "c320616c-23aa-44cd-a9f5-7862bf1786f8"
   },
   "outputs": [],
   "source": [
    "\n",
    "#Records the moving average for 20 days and 55 days\n",
    "\n",
    "TCKR['sma20'] = TCKR['close'].rolling(window=20).mean()\n",
    "TCKR['sma55'] = TCKR['close'].rolling(window=55).mean()\n",
    "\n",
    "\n",
    "TCKR.info()\n",
    "\n",
    "display(TCKR.head())"
   ]
  },
  {
   "cell_type": "code",
   "execution_count": null,
   "id": "ab4e75cd",
   "metadata": {
    "id": "ab4e75cd",
    "outputId": "10f79059-2ecf-4a28-bcbe-610744d99783"
   },
   "outputs": [],
   "source": [
    "risk = 0.01\n",
    "\n",
    "entry_price = float(input('At what positon do you want to enter '))\n",
    "stop_loss_long = (entry_price - (entry_price *0.02))\n",
    "stop_loss_short = (entry_price + (entry_price * 0.02))\n",
    "cash = float(input('How much is in account '))\n",
    "\n",
    "risk_amount = risk * cash\n",
    "\n",
    "position_size_short = risk_amount / stop_loss_short\n",
    "position_size_long = risk_amount / stop_loss_long\n",
    "\n",
    "print(f'position long:', {position_size_short})\n",
    "print(f'position short:', {position_size_long})"
   ]
  },
  {
   "cell_type": "code",
   "execution_count": null,
   "id": "1c27697b",
   "metadata": {
    "id": "1c27697b"
   },
   "outputs": [],
   "source": [
    "TCKR[\"signal\"] = None\n",
    "for i in range(len(TCKR)):\n",
    "    if TCKR.iloc[i][\"close\"] > TCKR.iloc[i][\"sma55\"]:\n",
    "        TCKR.at[i,\"signal\"] = \"buy\"\n",
    "    elif TCKR.iloc[i][\"close\"] < TCKR.iloc[i][\"sma20\"]:\n",
    "        TCKR.at[i,\"signal\"] = \"sell\""
   ]
  },
  {
   "cell_type": "code",
   "execution_count": null,
   "id": "c342b33b",
   "metadata": {
    "id": "c342b33b"
   },
   "outputs": [],
   "source": [
    "# Code to execute trades based on the signals\n",
    "for i in range(len(TCKR)):\n",
    "    if TCKR.iloc[i][\"signal\"] == \"buy\":\n",
    "        # Code to execute a buy order\n",
    "        pass\n",
    "    elif TCKR.iloc[i][\"signal\"] == \"sell\":\n",
    "        # Code to execute a sell order\n",
    "        pass"
   ]
  },
  {
   "cell_type": "code",
   "execution_count": null,
   "id": "9628b0a2",
   "metadata": {
    "id": "9628b0a2",
    "outputId": "ecca3e7a-9ee1-41fa-c396-cc077a076a5f"
   },
   "outputs": [],
   "source": [
    "display(TCKR[['signal']].tail())"
   ]
  },
  {
   "cell_type": "code",
   "execution_count": null,
   "id": "7b27490a",
   "metadata": {
    "id": "7b27490a"
   },
   "outputs": [],
   "source": [
    "TCKR.to_csv(\"TCKR.csv\")"
   ]
  },
  {
   "cell_type": "code",
   "execution_count": null,
   "id": "825aa3ef",
   "metadata": {
    "id": "825aa3ef",
    "outputId": "0b7cb7cf-de49-4cfb-a4ae-2180f36d90aa"
   },
   "outputs": [],
   "source": [
    "print(stop_loss_short)\n",
    "print(stop_loss_long)"
   ]
  },
  {
   "cell_type": "code",
   "execution_count": null,
   "id": "9bedbe9e",
   "metadata": {
    "id": "9bedbe9e"
   },
   "outputs": [],
   "source": [
    "for stop in range(len(TCKR)):\n",
    "    if TCKR.iloc[stop][\"stopOrexit\"] == \"S2 S/L\":\n",
    "        # Code to execute a buy order\n",
    "        pass\n",
    "    elif TCKR.iloc[stop][\"stopOrexit\"] == \"S1 S/L\":\n",
    "        # Code to execute a sell order\n",
    "        pass    \n",
    "    elif TCKR.iloc[stop][\"stopOrexit\"] == \"S1 Exit Long\":\n",
    "        pass\n",
    "    elif TCKR.iloc[stop][\"stopOrexit\"] == \"S1 Exit Short\":\n",
    "        pass\n",
    "    elif TCKR.iloc[stop][\"stopOrexit\"] == \"S2 Exit Long\":\n",
    "        pass\n",
    "    elif TCKR.iloc[stop][\"stopOrexit\"] == \"S2 Exit Short\":\n",
    "        pass"
   ]
  },
  {
   "cell_type": "code",
   "execution_count": null,
   "id": "6e5032af",
   "metadata": {},
   "outputs": [],
   "source": [
    "TCKR = TCKR.sort_values(by=['Date'])\n",
    "\n",
    "display(TCKR[['signal', 'stopOrexit', 'Date', 'from_file']].tail(10))\n",
    "\n",
    "TCKR.to_csv(\"TCKR.csv\")\n"
   ]
  },
  {
   "cell_type": "code",
   "execution_count": null,
   "id": "0676135d",
   "metadata": {},
   "outputs": [],
   "source": [
    "def expectancy(trades):\n",
    "    num_trades = len(trades)\n",
    "    \n",
    "    if num_trades == 0:\n",
    "        return 0\n",
    "    \n",
    "    wins = sum(float(trade['PNL']) > 0 for trade in trades)\n",
    "    PW = wins / num_trades\n",
    "\n",
    "    AW = sum(float(trade['PNL']) for trade in trades if float(trade['PNL']) > 0) / wins if wins > 0 else 0\n",
    "\n",
    "    AL = sum(float(trade['PNL']) for trade in trades if float(trade['PNL']) < 0) / (num_trades - wins) if num_trades - wins > 0 else 0\n",
    "    \n",
    "    E = (PW * AW) - ((1 - PW) * abs(AL))\n",
    "    return E"
   ]
  }
 ],
 "metadata": {
  "colab": {
   "provenance": []
  },
  "kernelspec": {
   "display_name": "Python 3 (ipykernel)",
   "language": "python",
   "name": "python3"
  },
  "language_info": {
   "codemirror_mode": {
    "name": "ipython",
    "version": 3
   },
   "file_extension": ".py",
   "mimetype": "text/x-python",
   "name": "python",
   "nbconvert_exporter": "python",
   "pygments_lexer": "ipython3",
   "version": "3.9.13"
  }
 },
 "nbformat": 4,
 "nbformat_minor": 5
}
