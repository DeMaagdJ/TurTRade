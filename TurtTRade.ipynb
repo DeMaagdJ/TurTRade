{
  "cells": [
    {
      "cell_type": "markdown",
      "metadata": {
        "id": "view-in-github",
        "colab_type": "text"
      },
      "source": [
        "<a href=\"https://colab.research.google.com/github/DeMaagdJ/TurTRade/blob/main/TurtTRade.ipynb\" target=\"_parent\"><img src=\"https://colab.research.google.com/assets/colab-badge.svg\" alt=\"Open In Colab\"/></a>"
      ]
    },
    {
      "cell_type": "code",
      "execution_count": null,
      "id": "459f7fb5",
      "metadata": {
        "id": "459f7fb5"
      },
      "outputs": [],
      "source": [
        "!pip install alpha_vantage\n",
        "import pandas as pd\n",
        "import math\n",
        "import numpy as np\n",
        "from alpha_vantage.timeseries import TimeSeries\n",
        "from alpha_vantage.techindicators import TechIndicators\n",
        "from datetime import date, datetime, timedelta\n",
        "import warnings\n",
        "warnings.filterwarnings(\"ignore\")\n",
        "\n",
        "\n",
        "\n"
      ]
    },
    {
      "cell_type": "code",
      "source": [
        "from google.colab import drive\n",
        "drive.mount('/content/drive')\n",
        "\n",
        "path = \"/content/drive/MyDrive/Financial reviews/Robinhood.xlsx\"\n",
        "sheet_name = \"Log\"\n",
        "rh_log = pd.read_excel(path, sheet_name)\n",
        "\n",
        "rh_log['Date'] = rh_log[\"Date\"].astype(str)\n",
        "\n",
        "\n",
        "#Datatype is in datetime.date.  Datatype in the dataframe is in datetime64.\n",
        "date55 = (date.today() - timedelta(days=55)).strftime(\"%Y-%m-%d\")\n",
        "date20 = (date.today() - timedelta(days=20)).strftime(\"%Y-%m-%d\")\n",
        "\n",
        "d1 = rh_log.loc[rh_log[\"Date\"] == date55]\n",
        "d2 = rh_log.loc[rh_log[\"Date\"] == date20]\n",
        "\n",
        "\n",
        "rows_less_than_zero = []\n",
        "\n",
        "for index, row in d1.iterrows():\n",
        "  if row['Cash Value'] < 0:\n",
        "    rows_less_than_zero.append(row)\n",
        "for index, row in d2.iterrows():\n",
        "  if row['Cash Value'] < 0:\n",
        "    rows_less_than_zero.append(row)\n",
        "\n",
        "d_fin = pd.DataFrame(rows_less_than_zero)\n",
        "\n",
        "display(d_fin)\n"
      ],
      "metadata": {
        "id": "5x4tfn2avj6b"
      },
      "id": "5x4tfn2avj6b",
      "execution_count": null,
      "outputs": []
    },
    {
      "cell_type": "code",
      "execution_count": null,
      "id": "906e5dea",
      "metadata": {
        "id": "906e5dea"
      },
      "outputs": [],
      "source": [
        "# Set your Alpha Vantage API key\n",
        "api_key = \"AlphaVanAPIkey\"\n",
        "\n",
        "# Create an instance of the TimeSeries & ATR indicator class with your API key\n",
        "ts = TimeSeries(key=api_key)\n",
        "#ti = TechIndicators(key= api_key)\n",
        "\n",
        "symbols = []\n",
        "\n",
        "for sym in range(1,5):\n",
        "    sym = str(input(\"please enter a symbol \"))\n",
        "    symbols.append(sym)\n",
        "\n",
        "# Create an empty DataFrame to store the data\n",
        "combined_data = pd.DataFrame(columns = ['Date', 'Open', 'High', 'Low', 'Close', 'Symbol'])\n",
        "\n",
        "# Fetch the stock data for each symbol and append to the DataFrame\n",
        "for symbol in symbols:\n",
        "    data_ts, meta_data = ts.get_daily(symbol, outputsize='compact')\n",
        "    #data_ti, meta_data = ti.get_atr(symbol, interval='daily', time_period=1)\n",
        "\n",
        "          # Append symbol to each data point\n",
        "\n",
        "\n",
        "    symbol_data = []\n",
        "    for date, data_ts in data_ts.items():\n",
        "        open_price = float(data_ts['1. open'])\n",
        "        high_price = float(data_ts['2. high'])\n",
        "        low_price = float(data_ts['3. low'])\n",
        "        close_price = float(data_ts['4. close'])\n",
        "        volume = float(data_ts['5. volume'])\n",
        "        symbol = symbol\n",
        "#for date, data_ti in data_ti.items():\n",
        "  #ATR_alpha = float(data_ti[\"ATR\"])\n",
        "\n",
        "   # Create a DataFrame for the symbol's data\n",
        "        combined_data = combined_data.append({\n",
        "            'Date': date,\n",
        "            'Open': open_price,\n",
        "            'High': high_price,\n",
        "            'Low': low_price,\n",
        "            'Close': close_price,\n",
        "            'Volume': volume,\n",
        "            #'ATR_alpha': ATR_alpha,\n",
        "            'Symbol': symbol}, ignore_index=True)\n",
        "\n"
      ]
    },
    {
      "cell_type": "code",
      "source": [
        "combined_data['Date'] = pd.to_datetime(combined_data['Date'])\n",
        "\n",
        "combined_data['ATR'] = [max(tup) for tup in list(zip(combined_data['High'] - combined_data['Low'],\n",
        "                                        (combined_data['High'] - combined_data['Close'].shift(1)).abs(),\n",
        "                                        (combined_data['Low']  - combined_data['Close'].shift(1)).abs()))]"
      ],
      "metadata": {
        "id": "E2qAnb8NRdDm"
      },
      "id": "E2qAnb8NRdDm",
      "execution_count": null,
      "outputs": []
    },
    {
      "cell_type": "code",
      "source": [
        "#Sort values and assign to \"fact\" dataframe.  Add 20 day and 55 day moving averages to the dataframe\n",
        "TCKR = combined_data.groupby('Symbol').apply(lambda x: x.sort_values('Date', ascending= True)).reset_index(drop= True)\n",
        "TCKR['sma20'] = TCKR.groupby('Symbol').rolling(window = 20)['Close'].mean().reset_index(drop=True)\n",
        "TCKR['sma55'] = TCKR.groupby('Symbol').rolling(window = 55)['Close'].mean().reset_index(drop=True)\n",
        "TCKR = TCKR.groupby('Symbol').apply(lambda x: x.sort_values('Date', ascending= False)).reset_index(drop = True)\n",
        "TCKR = TCKR.sort_index(ascending = False)\n",
        "\n",
        "TCKR.tail()"
      ],
      "metadata": {
        "id": "tfPtHEcMRgkI"
      },
      "id": "tfPtHEcMRgkI",
      "execution_count": null,
      "outputs": []
    },
    {
      "cell_type": "code",
      "source": [
        "# #Assign signal and trading strategy to each row\n",
        "TCKR[\"signal\"] = None\n",
        "for i in range(len(TCKR)):\n",
        "  if TCKR.iloc[i][\"Close\"] > TCKR.iloc[i][\"sma20\"]:\n",
        "    TCKR.at[i,\"signal\"] = \"Buy as S1\"\n",
        "  elif TCKR.iloc[i][\"Low\"] < TCKR.iloc[i-10][\"sma20\"]:\n",
        "    TCKR.at[i,\"signal\"] = \"Sell as S1 Long\"\n",
        "  elif TCKR.iloc[i][\"High\"] > TCKR.iloc[i-10][\"sma20\"]:\n",
        "    TCKR.at[i,\"signal\"] = \"Sell as S1 Short\"\n",
        "\n",
        "for i in range(len(TCKR)):\n",
        "  if TCKR.iloc[i][\"Close\"] > TCKR.iloc[i][\"sma55\"]:\n",
        "    TCKR.at[i,\"signal\"] = \"Buy as S2\"\n",
        "  elif TCKR.iloc[i][\"Close\"] > TCKR.iloc[i-20][\"sma20\"] and TCKR.iloc[i][\"Low\"] < TCKR.iloc[i][\"sma55\"]:\n",
        "    TCKR.at[i,\"signal\"] = \"Sell as S2 Short\"\n",
        "  elif TCKR.iloc[i][\"Close\"] > TCKR.iloc[i-20][\"sma20\"] and TCKR.iloc[i][\"High\"] < TCKR.iloc[i][\"sma55\"]:\n",
        "    TCKR.at[i,\"signal\"] = \"Sell as S2 Long\"\n",
        "\n",
        "TCKR= TCKR.fillna(0)\n",
        "TCKR = TCKR.sort_index(ascending = True)\n",
        "TCKR.to_csv(\"TCKR.csv\")\n",
        "\n",
        "# #Calculate position size and print out information to execute a trade\n",
        "\n",
        "risk = 0.02\n",
        "cash = float(input('How much is in account? '))\n",
        "risk_amount = risk * cash\n",
        "\n",
        "for x in symbols:\n",
        "  N = (TCKR.loc[TCKR['Symbol'] == x, 'ATR'].iloc[1])\n",
        "  signal = (TCKR.loc[TCKR['Symbol'] == x, 'signal'].iloc[1])\n",
        "  entry_price = (TCKR.loc[TCKR['Symbol'] == x, 'Close'].iloc[1])\n",
        "\n",
        "  stop_loss = round(((entry_price)- (2*N)), 2)\n",
        "  position_size= round(risk_amount / stop_loss, 2)\n",
        "  print(x, {position_size}, f'Stop loss: {stop_loss}, signal = {signal}')"
      ],
      "metadata": {
        "id": "3TXqQ5Mo7Kt8"
      },
      "id": "3TXqQ5Mo7Kt8",
      "execution_count": null,
      "outputs": []
    },
    {
      "cell_type": "code",
      "source": [
        "TCKR.info()"
      ],
      "metadata": {
        "id": "g05AR4pzkJDS"
      },
      "id": "g05AR4pzkJDS",
      "execution_count": null,
      "outputs": []
    },
    {
      "cell_type": "code",
      "source": [
        "#S1 filter.  Ignore S1 trades is the previous breakout would have resulted in a winning trade.\n",
        "for x in symbols:\n",
        "  lookback20 = (TCKR.loc[TCKR['Symbol'] == x, 'High'].iloc[20])\n",
        "  lookback40 = (TCKR.loc[TCKR['Symbol'] == x, 'High'].iloc[40])\n",
        "  stop_loss20 = round(((lookback20)- (2*N)), 2)\n",
        "  stop_loss40 = round(((lookback40)- (2*N)), 2)\n",
        "\n",
        "  print(x, f'Lookback 40: {lookback40}, Lookback 20: {lookback20}, Stop loss at 20: {stop_loss20}, Stop loss at 40: {stop_loss40}')\n",
        "  if float(lookback40) > float(stop_loss40) and float(lookback20) > float(stop_loss40):\n",
        "    print(\"You cannot initiate a S1 trade.  Wait for an S2.\")\n",
        "    print(\"                                                \")\n",
        "  else:\n",
        "    print(\"GO FOR S1 TRADE!\")\n",
        "    print(\"                              \")"
      ],
      "metadata": {
        "id": "e8-fVlBMZhTA"
      },
      "id": "e8-fVlBMZhTA",
      "execution_count": null,
      "outputs": []
    }
  ],
  "metadata": {
    "colab": {
      "provenance": [],
      "include_colab_link": true
    },
    "kernelspec": {
      "display_name": "Python 3",
      "name": "python3"
    },
    "language_info": {
      "name": "python"
    }
  },
  "nbformat": 4,
  "nbformat_minor": 5
}